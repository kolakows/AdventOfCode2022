{
 "cells": [
  {
   "cell_type": "code",
   "execution_count": 15,
   "metadata": {},
   "outputs": [],
   "source": [
    "data_path = './solutions/sample.txt'\n",
    "with open(data_path) as f:\n",
    "    data = f.read().split('\\n')\n",
    "\n",
    "\n",
    "def parse_ls(i):\n",
    "    ls_output = []\n",
    "    while i < len(data) and not data[i].startswith('$'):\n",
    "        ls_output.append(data[i])\n",
    "        i += 1\n",
    "\n",
    "    subdirs = []\n",
    "    files = []\n",
    "\n",
    "    for f in ls_output:\n",
    "        if f.startswith('dir'):\n",
    "            subdirs.append(f.split()[1])\n",
    "        else:\n",
    "            files.append(f)\n",
    "\n",
    "    return files, subdirs, i-1\n",
    "\n",
    "class Node:\n",
    "    def __init__(self, node_id):\n",
    "        self.node_id = node_id\n",
    "        self.size = 0\n",
    "        self.subdirs = []\n",
    "        self.correct_size = False\n",
    "\n",
    "curr_node = None\n",
    "curr_path = []\n",
    "all_nodes = {}\n",
    "\n",
    "i = 0\n",
    "while i < len(data):\n",
    "    command = data[i].split()\n",
    "    if command[1] == 'ls':\n",
    "        files, subdirs, i = parse_ls(i+1)\n",
    "        curr_node.subdirs = subdirs\n",
    "        curr_node.size += sum([int(f.split()[0]) for f in files])\n",
    "\n",
    "    if command[1] == 'cd':\n",
    "        # print(curr_path)\n",
    "        if command[2] == '..':\n",
    "            # update curr_node?\n",
    "            curr_path.pop()\n",
    "            node_id = ''.join(curr_path)\n",
    "            curr_node = all_nodes[node_id]\n",
    "        else:\n",
    "            _, _, cd_dir = command\n",
    "            curr_path.append(cd_dir)\n",
    "\n",
    "            node_id = ''.join(curr_path)\n",
    "            curr_node = Node(node_id)\n",
    "            all_nodes[node_id] = curr_node\n",
    "    i += 1"
   ]
  },
  {
   "cell_type": "code",
   "execution_count": 16,
   "metadata": {},
   "outputs": [],
   "source": [
    "root_node_id = '/'\n",
    "\n",
    "def update_node_size(node):\n",
    "\n",
    "    if node.correct_size:\n",
    "        return\n",
    "\n",
    "    sub_nodes = []\n",
    "    for subdir in node.subdirs:\n",
    "        subnode_id = node.node_id + subdir\n",
    "        sub_nodes.append(all_nodes[subnode_id])\n",
    "    \n",
    "    for sub_node in sub_nodes:\n",
    "        update_node_size(sub_node)\n",
    "    \n",
    "    if not sub_nodes:\n",
    "        node.correct_size = True\n",
    "    if not node.correct_size:\n",
    "        node.size += sum([sub_node.size for sub_node in sub_nodes])\n",
    "\n",
    "update_node_size(all_nodes[root_node_id])"
   ]
  },
  {
   "cell_type": "code",
   "execution_count": 17,
   "metadata": {},
   "outputs": [
    {
     "data": {
      "text/plain": [
       "1182909"
      ]
     },
     "execution_count": 17,
     "metadata": {},
     "output_type": "execute_result"
    }
   ],
   "source": [
    "# part 1\n",
    "\n",
    "total = 0\n",
    "for node_id, node in all_nodes.items():\n",
    "    if node.size <= 100000:\n",
    "        total += node.size\n",
    "total"
   ]
  },
  {
   "cell_type": "code",
   "execution_count": 18,
   "metadata": {},
   "outputs": [
    {
     "data": {
      "text/plain": [
       "2832508"
      ]
     },
     "execution_count": 18,
     "metadata": {},
     "output_type": "execute_result"
    }
   ],
   "source": [
    "# part 2\n",
    "\n",
    "free = 70000000 - all_nodes[root_node_id].size\n",
    "to_free = 30000000\n",
    "candidates = []\n",
    "for node_id, node in all_nodes.items():\n",
    "    if free + node.size >= to_free:\n",
    "        candidates.append(node.size)\n",
    "min(candidates)"
   ]
  }
 ],
 "metadata": {
  "kernelspec": {
   "display_name": "Python 3.8.5 ('hf')",
   "language": "python",
   "name": "python3"
  },
  "language_info": {
   "codemirror_mode": {
    "name": "ipython",
    "version": 3
   },
   "file_extension": ".py",
   "mimetype": "text/x-python",
   "name": "python",
   "nbconvert_exporter": "python",
   "pygments_lexer": "ipython3",
   "version": "3.8.5"
  },
  "orig_nbformat": 4,
  "vscode": {
   "interpreter": {
    "hash": "08f1101887cb7ef917b721a654a351322a18adc369ab73268c522ba28e2892ef"
   }
  }
 },
 "nbformat": 4,
 "nbformat_minor": 2
}
