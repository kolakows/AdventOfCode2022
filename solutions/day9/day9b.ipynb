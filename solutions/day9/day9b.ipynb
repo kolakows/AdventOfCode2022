{
 "cells": [
  {
   "cell_type": "code",
   "execution_count": 16,
   "metadata": {},
   "outputs": [
    {
     "data": {
      "text/plain": [
       "2386"
      ]
     },
     "execution_count": 16,
     "metadata": {},
     "output_type": "execute_result"
    }
   ],
   "source": [
    "data_path = './solutions/sample.txt'\n",
    "with open(data_path) as f:\n",
    "    data = f.read().split('\\n')\n",
    "\n",
    "import numpy as np\n",
    "\n",
    "def update_simple(knot, direction):\n",
    "    if direction == 'U':\n",
    "        knot += [1, 0]\n",
    "    if direction == 'D':\n",
    "        knot += [-1, 0]\n",
    "    if direction == 'L':\n",
    "        knot += [0, -1]\n",
    "    if direction == 'R':\n",
    "        knot += [0, 1]\n",
    "\n",
    "def is_connected(first, second):\n",
    "    return max(abs(first - second)) < 2\n",
    "\n",
    "def update(first, second):\n",
    "    if is_connected(first, second):\n",
    "        return\n",
    "    v = second - first\n",
    "    v = -np.clip(v, -1, 1)\n",
    "    second += v\n",
    "\n",
    "rope = [np.array([0,0]) for _ in range(10)]\n",
    "visited = [{(0,0)} for _ in range(10)]\n",
    "\n",
    "for c in data:\n",
    "    d, i = c.split()\n",
    "    for _ in range(int(i)):\n",
    "        update_simple(rope[0], d)\n",
    "        for first, second in zip(rope[:-1], rope[1:]):\n",
    "            update(first, second)\n",
    "\n",
    "        for i, knot in enumerate(rope):\n",
    "            visited[i].add(tuple(knot))\n",
    "len(visited[-1])"
   ]
  }
 ],
 "metadata": {
  "kernelspec": {
   "display_name": "Python 3.8.5 ('hf')",
   "language": "python",
   "name": "python3"
  },
  "language_info": {
   "codemirror_mode": {
    "name": "ipython",
    "version": 3
   },
   "file_extension": ".py",
   "mimetype": "text/x-python",
   "name": "python",
   "nbconvert_exporter": "python",
   "pygments_lexer": "ipython3",
   "version": "3.8.5"
  },
  "orig_nbformat": 4,
  "vscode": {
   "interpreter": {
    "hash": "08f1101887cb7ef917b721a654a351322a18adc369ab73268c522ba28e2892ef"
   }
  }
 },
 "nbformat": 4,
 "nbformat_minor": 2
}
