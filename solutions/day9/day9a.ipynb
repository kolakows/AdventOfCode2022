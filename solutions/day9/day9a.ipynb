{
 "cells": [
  {
   "cell_type": "code",
   "execution_count": 33,
   "metadata": {},
   "outputs": [
    {
     "data": {
      "text/plain": [
       "6181"
      ]
     },
     "execution_count": 33,
     "metadata": {},
     "output_type": "execute_result"
    }
   ],
   "source": [
    "data_path = './solutions/sample.txt'\n",
    "with open(data_path) as f:\n",
    "    data = f.read().split('\\n')\n",
    "\n",
    "import numpy as np\n",
    "\n",
    "board = {\n",
    "    'head':np.array([0,0]),\n",
    "    'tail':np.array([0,0]),\n",
    "    'tail_visited': {(0,0)},\n",
    "    'connected' : True\n",
    "}\n",
    "\n",
    "def update_simple(board, direction, part):\n",
    "    if direction == 'U':\n",
    "        board[part] += [1, 0]\n",
    "    if direction == 'D':\n",
    "        board[part] += [-1, 0]\n",
    "    if direction == 'L':\n",
    "        board[part] += [0, -1]\n",
    "    if direction == 'R':\n",
    "        board[part] += [0, 1]\n",
    "\n",
    "def update_tail(board, direction):\n",
    "    if direction in ['U', 'D']:\n",
    "        if board['head'][1] == board['tail'][1]:\n",
    "            update_simple(board, direction, 'tail')\n",
    "    if direction in ['L', 'R']:\n",
    "        if board['head'][0] == board['tail'][0]:\n",
    "            update_simple(board, direction, 'tail')\n",
    "\n",
    "def is_connected(board):\n",
    "    return max(abs(board['tail'] - board['head'])) < 2\n",
    "\n",
    "def step(board, direction):\n",
    "    if all(board['head'] == board['tail']):\n",
    "        update_simple(board, direction, 'head')\n",
    "    elif any(board['head'] == board['tail']):\n",
    "        update_simple(board, direction, 'head')\n",
    "        if not is_connected(board):\n",
    "            update_tail(board, direction)\n",
    "    else:\n",
    "        last_head_pos = board['head'].copy()\n",
    "        update_simple(board, direction, 'head')\n",
    "        if not is_connected(board):\n",
    "            board['tail'] = last_head_pos\n",
    "\n",
    "    board['tail_visited'].add(tuple(board['tail']))\n",
    "\n",
    "for c in data:\n",
    "    d, i = c.split()\n",
    "    for _ in range(int(i)):\n",
    "        step(board, d)\n",
    "len(board['tail_visited'])"
   ]
  }
 ],
 "metadata": {
  "kernelspec": {
   "display_name": "Python 3.8.5 ('hf')",
   "language": "python",
   "name": "python3"
  },
  "language_info": {
   "codemirror_mode": {
    "name": "ipython",
    "version": 3
   },
   "file_extension": ".py",
   "mimetype": "text/x-python",
   "name": "python",
   "nbconvert_exporter": "python",
   "pygments_lexer": "ipython3",
   "version": "3.8.5"
  },
  "orig_nbformat": 4,
  "vscode": {
   "interpreter": {
    "hash": "08f1101887cb7ef917b721a654a351322a18adc369ab73268c522ba28e2892ef"
   }
  }
 },
 "nbformat": 4,
 "nbformat_minor": 2
}
