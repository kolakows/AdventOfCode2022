{
 "cells": [
  {
   "cell_type": "code",
   "execution_count": 16,
   "metadata": {},
   "outputs": [
    {
     "data": {
      "text/plain": [
       "2545"
      ]
     },
     "execution_count": 16,
     "metadata": {},
     "output_type": "execute_result"
    }
   ],
   "source": [
    "data_path = 'input.txt'\n",
    "with open(data_path) as f:\n",
    "    rucksacks = f.read().split('\\n')\n",
    "\n",
    "from string import ascii_letters\n",
    "\n",
    "priority = {l:i+1 for i, l in enumerate(ascii_letters)}\n",
    "\n",
    "p = 0\n",
    "for i in range(0, len(rucksacks), 3):\n",
    "    group = rucksacks[i: i+3]\n",
    "    group_items = [set(b) for b in group]\n",
    "    common_item = group_items[0] & group_items[1] & group_items[2]\n",
    "    common_item = next(iter(common_item))\n",
    "    p += priority[common_item]\n",
    "p"
   ]
  }
 ],
 "metadata": {
  "kernelspec": {
   "display_name": "Python 3.8.5 ('hf')",
   "language": "python",
   "name": "python3"
  },
  "language_info": {
   "codemirror_mode": {
    "name": "ipython",
    "version": 3
   },
   "file_extension": ".py",
   "mimetype": "text/x-python",
   "name": "python",
   "nbconvert_exporter": "python",
   "pygments_lexer": "ipython3",
   "version": "3.8.5"
  },
  "orig_nbformat": 4,
  "vscode": {
   "interpreter": {
    "hash": "08f1101887cb7ef917b721a654a351322a18adc369ab73268c522ba28e2892ef"
   }
  }
 },
 "nbformat": 4,
 "nbformat_minor": 2
}
