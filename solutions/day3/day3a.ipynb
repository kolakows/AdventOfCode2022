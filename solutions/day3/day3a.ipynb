{
 "cells": [
  {
   "cell_type": "code",
   "execution_count": 11,
   "metadata": {},
   "outputs": [
    {
     "data": {
      "text/plain": [
       "7997"
      ]
     },
     "execution_count": 11,
     "metadata": {},
     "output_type": "execute_result"
    }
   ],
   "source": [
    "data_path = 'input.txt'\n",
    "with open(data_path) as f:\n",
    "    rucksacks = f.read().split('\\n')\n",
    "\n",
    "from string import ascii_letters\n",
    "\n",
    "priority = {l:i+1 for i, l in enumerate(ascii_letters)}\n",
    "\n",
    "p = 0\n",
    "for r in rucksacks:\n",
    "    compartment_length = len(r)//2\n",
    "    items_a = set(r[:compartment_length])\n",
    "    items_b = set(r[compartment_length:])\n",
    "    common = items_a & items_b\n",
    "    assert len(common) == 1\n",
    "    common_item = next(iter(common))\n",
    "    p += priority[common_item]\n",
    "p"
   ]
  }
 ],
 "metadata": {
  "kernelspec": {
   "display_name": "Python 3.8.5 ('hf')",
   "language": "python",
   "name": "python3"
  },
  "language_info": {
   "codemirror_mode": {
    "name": "ipython",
    "version": 3
   },
   "file_extension": ".py",
   "mimetype": "text/x-python",
   "name": "python",
   "nbconvert_exporter": "python",
   "pygments_lexer": "ipython3",
   "version": "3.8.5"
  },
  "orig_nbformat": 4,
  "vscode": {
   "interpreter": {
    "hash": "08f1101887cb7ef917b721a654a351322a18adc369ab73268c522ba28e2892ef"
   }
  }
 },
 "nbformat": 4,
 "nbformat_minor": 2
}
