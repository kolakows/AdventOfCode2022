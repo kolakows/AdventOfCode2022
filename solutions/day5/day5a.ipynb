{
 "cells": [
  {
   "cell_type": "code",
   "execution_count": 57,
   "metadata": {},
   "outputs": [],
   "source": [
    "data_path = '../input.txt'\n",
    "with open(data_path) as f:\n",
    "    data = f.read().split('\\n\\n')\n",
    "\n",
    "pos, ins = data"
   ]
  },
  {
   "cell_type": "code",
   "execution_count": 58,
   "metadata": {},
   "outputs": [],
   "source": [
    "def extract_items(row):\n",
    "    items = []\n",
    "    for i in range(1, len(row), 4):\n",
    "        items.append(row[i])\n",
    "    return items"
   ]
  },
  {
   "cell_type": "code",
   "execution_count": 59,
   "metadata": {},
   "outputs": [],
   "source": [
    "def to_stacks(pos):\n",
    "    rows = pos.split('\\n')\n",
    "    stacks = [[] for _ in range(len(rows[-1].split()))]\n",
    "    for r in reversed(rows[:-1]):\n",
    "        items = extract_items(r)\n",
    "        for i, item in enumerate(items):\n",
    "            if item != ' ':\n",
    "                stacks[i].append(item)\n",
    "    return stacks"
   ]
  },
  {
   "cell_type": "code",
   "execution_count": 60,
   "metadata": {},
   "outputs": [],
   "source": [
    "import re\n",
    "\n",
    "def parse_instructions(ins):\n",
    "    program = []\n",
    "    for row in ins.split('\\n'):\n",
    "        line = [int(g) for g in re.match('move (\\d+) from (\\d+) to (\\d+)', row).groups()]\n",
    "        program.append(line)\n",
    "    return program"
   ]
  },
  {
   "cell_type": "code",
   "execution_count": 61,
   "metadata": {},
   "outputs": [],
   "source": [
    "def execute_program(stacks, program):\n",
    "    for line in program:\n",
    "        i, fr, to = line\n",
    "        for _ in range(i):\n",
    "            cargo = stacks[fr-1].pop()\n",
    "            stacks[to-1].append(cargo)"
   ]
  },
  {
   "cell_type": "code",
   "execution_count": 62,
   "metadata": {},
   "outputs": [],
   "source": [
    "stacks = to_stacks(pos)\n",
    "program = parse_instructions(ins)\n",
    "execute_program(stacks, program)\n",
    "\n",
    "message = [stack.pop() for stack in stacks if stack]"
   ]
  },
  {
   "cell_type": "code",
   "execution_count": 63,
   "metadata": {},
   "outputs": [
    {
     "data": {
      "text/plain": [
       "'CFFHVVHNC'"
      ]
     },
     "execution_count": 63,
     "metadata": {},
     "output_type": "execute_result"
    }
   ],
   "source": [
    "''.join(message)"
   ]
  }
 ],
 "metadata": {
  "kernelspec": {
   "display_name": "Python 3.8.5 ('hf')",
   "language": "python",
   "name": "python3"
  },
  "language_info": {
   "codemirror_mode": {
    "name": "ipython",
    "version": 3
   },
   "file_extension": ".py",
   "mimetype": "text/x-python",
   "name": "python",
   "nbconvert_exporter": "python",
   "pygments_lexer": "ipython3",
   "version": "3.8.5"
  },
  "orig_nbformat": 4,
  "vscode": {
   "interpreter": {
    "hash": "08f1101887cb7ef917b721a654a351322a18adc369ab73268c522ba28e2892ef"
   }
  }
 },
 "nbformat": 4,
 "nbformat_minor": 2
}
