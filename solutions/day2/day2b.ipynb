{
 "cells": [
  {
   "cell_type": "code",
   "execution_count": 4,
   "metadata": {},
   "outputs": [
    {
     "data": {
      "text/plain": [
       "14184"
      ]
     },
     "execution_count": 4,
     "metadata": {},
     "output_type": "execute_result"
    }
   ],
   "source": [
    "import itertools\n",
    "\n",
    "data_path = 'input.txt'\n",
    "with open(data_path) as f:\n",
    "    rounds = f.read().split('\\n')\n",
    "\n",
    "move_strength = {move:i+1 for i, move in itertools.chain(enumerate(['A','B','C']), enumerate(['X','Y','Z']))}\n",
    "move_points = move_strength\n",
    "move_name = {\n",
    "    'A' : 'rock',\n",
    "    'B' : 'paper',\n",
    "    'C': 'scissors',\n",
    "}\n",
    "move_name_letter = {v: k for k, v in move_name.items()}\n",
    "\n",
    "result_score = {r: s for r, s in zip(['X', 'Y', 'Z'], [0, 3, 6])}\n",
    "# X beats Y format\n",
    "play_to_lose = {\n",
    "    'rock':'scissors',\n",
    "    'paper':'rock',\n",
    "    'scissors':'paper'}\n",
    "# X loses to Y format\n",
    "play_to_win = {v:k for k, v in play_to_lose.items()}\n",
    "\n",
    "\n",
    "def get_my_move(op_move, game_result):\n",
    "    if game_result == 'X':\n",
    "        return play_to_lose[op_move]\n",
    "    if game_result == 'Y':\n",
    "        return op_move\n",
    "    if game_result == 'Z':\n",
    "        return play_to_win[op_move]\n",
    "\n",
    "\n",
    "def score(game):\n",
    "    op, result = game.split()\n",
    "    op = move_name[op]\n",
    "\n",
    "    points = 0\n",
    "    points += result_score[result]\n",
    "\n",
    "    my_move = get_my_move(op, result)\n",
    "    my_move = move_name_letter[my_move]\n",
    "\n",
    "    points += move_points[my_move]\n",
    "    # print(points, game)\n",
    "\n",
    "    return points\n",
    "\n",
    "total = [score(game) for game in rounds]\n",
    "sum(total)"
   ]
  },
  {
   "cell_type": "code",
   "execution_count": null,
   "metadata": {},
   "outputs": [],
   "source": [
    "# error 1, X, Y, Z no longer mean rock, paper, scissors!"
   ]
  }
 ],
 "metadata": {
  "kernelspec": {
   "display_name": "Python 3.8.5 ('hf')",
   "language": "python",
   "name": "python3"
  },
  "language_info": {
   "codemirror_mode": {
    "name": "ipython",
    "version": 3
   },
   "file_extension": ".py",
   "mimetype": "text/x-python",
   "name": "python",
   "nbconvert_exporter": "python",
   "pygments_lexer": "ipython3",
   "version": "3.8.5"
  },
  "orig_nbformat": 4,
  "vscode": {
   "interpreter": {
    "hash": "08f1101887cb7ef917b721a654a351322a18adc369ab73268c522ba28e2892ef"
   }
  }
 },
 "nbformat": 4,
 "nbformat_minor": 2
}
