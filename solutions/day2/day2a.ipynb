{
 "cells": [
  {
   "cell_type": "code",
   "execution_count": 45,
   "metadata": {},
   "outputs": [
    {
     "data": {
      "text/plain": [
       "15472"
      ]
     },
     "execution_count": 45,
     "metadata": {},
     "output_type": "execute_result"
    }
   ],
   "source": [
    "import itertools\n",
    "\n",
    "data_path = 'input.txt'\n",
    "with open(data_path) as f:\n",
    "    rounds = f.read().split('\\n')\n",
    "\n",
    "move_strength = {move:i+1 for i, move in itertools.chain(enumerate(['A','B','C']), enumerate(['X','Y','Z']))}\n",
    "move_points = move_strength\n",
    "move_strength_name = {\n",
    "    1 : 'r', # rock\n",
    "    2 : 'p', # paper\n",
    "    3 : 's'  # scisors\n",
    "}\n",
    "\n",
    "# def game_score(op_s, me_s):\n",
    "#     op = move_strength_name[op_s]\n",
    "#     me = move_strength_name[me_s]\n",
    "\n",
    "#     winning = [('r','s'), ('p', 'r'), ('s', 'p')]\n",
    "\n",
    "#     if (me, op) in winning:\n",
    "#         return 6\n",
    "#     if me == op:\n",
    "#         return 3\n",
    "#     return 0\n",
    "\n",
    "result_score = {r: s for r, s in zip(['X', 'Y', 'Z'], [0, 3, 6])}\n",
    "\n",
    "def score(game):\n",
    "    op, me = game.split()\n",
    "    op_s = move_strength[op]\n",
    "    me_s = move_strength[me]\n",
    "    \n",
    "    points = 0\n",
    "\n",
    "    # heh, that's not how rock, paper, scisor works\n",
    "    # if me_s > op_s:\n",
    "    #     points += 6\n",
    "    # if me_s == op_s:\n",
    "    #     points += 3\n",
    "    \n",
    "    points += result_score[me]\n",
    "\n",
    "    points += move_points[me]\n",
    "    # print(points, game)\n",
    "\n",
    "    return points\n",
    "\n",
    "# total = [(game, score(game)) for game in rounds]\n",
    "# set(total)\n",
    "\n",
    "total = [score(game) for game in rounds]\n",
    "sum(total)"
   ]
  },
  {
   "cell_type": "code",
   "execution_count": 1,
   "metadata": {},
   "outputs": [],
   "source": [
    "# error 1, counting score for p1 instead of p2\n",
    "# error 2, faulty logic, suspected that there was an error in the score calculation, but I just coded the wrong game!\n",
    "\n",
    "# lesson 1: better variable naming (here oponent vs me)\n",
    "# lesson 2: if the code does exactly what you want and the outcome is wrong, then what you want is wrong\n",
    "#           be quicker to assume that some part of the solution implements faulty logic, quickly estimate how certain you are in each component's correctness"
   ]
  },
  {
   "cell_type": "code",
   "execution_count": null,
   "metadata": {},
   "outputs": [],
   "source": []
  }
 ],
 "metadata": {
  "kernelspec": {
   "display_name": "Python 3.8.5 ('hf')",
   "language": "python",
   "name": "python3"
  },
  "language_info": {
   "codemirror_mode": {
    "name": "ipython",
    "version": 3
   },
   "file_extension": ".py",
   "mimetype": "text/x-python",
   "name": "python",
   "nbconvert_exporter": "python",
   "pygments_lexer": "ipython3",
   "version": "3.8.5"
  },
  "orig_nbformat": 4,
  "vscode": {
   "interpreter": {
    "hash": "08f1101887cb7ef917b721a654a351322a18adc369ab73268c522ba28e2892ef"
   }
  }
 },
 "nbformat": 4,
 "nbformat_minor": 2
}
