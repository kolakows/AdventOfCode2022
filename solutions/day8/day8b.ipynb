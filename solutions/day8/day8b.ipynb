{
 "cells": [
  {
   "cell_type": "code",
   "execution_count": null,
   "metadata": {},
   "outputs": [],
   "source": [
    "data_path = './solutions/sample.txt'\n",
    "with open(data_path) as f:\n",
    "    data = f.read().split('\\n')\n",
    "\n",
    "import numpy as np\n",
    "\n",
    "forest = np.array([[int(t) for t in row]for row in data])\n",
    "\n",
    "def scenic_score(i, j, forest):\n",
    "    if i == 0 or j == 0 or i == forest.shape[0]-1 or j==forest.shape[1]-1:\n",
    "        return 0\n",
    "    th = forest[i,j]\n",
    "\n",
    "    u = forest[:i,j] >= th\n",
    "    d = forest[i+1:,j] >= th\n",
    "    l = forest[i,:j] >= th\n",
    "    r = forest[i,j+1:] >= th\n",
    "\n",
    "    scores = []\n",
    "    for trees in [l[::-1], r, u[::-1], d]:\n",
    "        if any(trees):\n",
    "            sc = np.argmax(trees) + 1\n",
    "        else:\n",
    "            sc = len(trees)\n",
    "        scores.append(sc)\n",
    "    # print(scores)\n",
    "    return np.prod(scores)\n",
    "    \n",
    "        \n",
    "score = []\n",
    "for i in range(forest.shape[0]):\n",
    "    for j in range(forest.shape[1]):\n",
    "        score.append(scenic_score(i,j,forest))\n",
    "max(score)"
   ]
  }
 ],
 "metadata": {
  "kernelspec": {
   "display_name": "Python 3.8.5 ('hf')",
   "language": "python",
   "name": "python3"
  },
  "language_info": {
   "name": "python",
   "version": "3.8.5"
  },
  "orig_nbformat": 4,
  "vscode": {
   "interpreter": {
    "hash": "08f1101887cb7ef917b721a654a351322a18adc369ab73268c522ba28e2892ef"
   }
  }
 },
 "nbformat": 4,
 "nbformat_minor": 2
}
