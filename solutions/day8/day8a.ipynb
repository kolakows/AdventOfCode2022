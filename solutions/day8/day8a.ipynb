{
 "cells": [
  {
   "cell_type": "code",
   "execution_count": 16,
   "metadata": {},
   "outputs": [
    {
     "data": {
      "text/plain": [
       "1779"
      ]
     },
     "execution_count": 16,
     "metadata": {},
     "output_type": "execute_result"
    }
   ],
   "source": [
    "data_path = './solutions/sample.txt'\n",
    "with open(data_path) as f:\n",
    "    data = f.read().split('\\n')\n",
    "\n",
    "import numpy as np\n",
    "\n",
    "forest = np.array([[int(t) for t in row]for row in data])\n",
    "\n",
    "\n",
    "def is_visible(i, j, forest):\n",
    "    if i == 0 or j == 0 or i == forest.shape[0]-1 or j==forest.shape[1]-1:\n",
    "        return True\n",
    "    th = forest[i,j]\n",
    "    if all(forest[:i,j] < th) or\\\n",
    "        all(forest[i+1:,j] < th) or\\\n",
    "        all(forest[i,:j] < th) or\\\n",
    "        all(forest[i,j+1:] < th):\n",
    "        return True\n",
    "    return False\n",
    "\n",
    "    \n",
    "visibility = []\n",
    "for i in range(forest.shape[0]):\n",
    "    for j in range(forest.shape[1]):\n",
    "        visibility.append(is_visible(i,j,forest))\n",
    "sum(visibility)"
   ]
  }
 ],
 "metadata": {
  "kernelspec": {
   "display_name": "Python 3.8.5 ('hf')",
   "language": "python",
   "name": "python3"
  },
  "language_info": {
   "codemirror_mode": {
    "name": "ipython",
    "version": 3
   },
   "file_extension": ".py",
   "mimetype": "text/x-python",
   "name": "python",
   "nbconvert_exporter": "python",
   "pygments_lexer": "ipython3",
   "version": "3.8.5"
  },
  "orig_nbformat": 4,
  "vscode": {
   "interpreter": {
    "hash": "08f1101887cb7ef917b721a654a351322a18adc369ab73268c522ba28e2892ef"
   }
  }
 },
 "nbformat": 4,
 "nbformat_minor": 2
}
