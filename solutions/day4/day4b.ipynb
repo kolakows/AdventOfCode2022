{
 "cells": [
  {
   "cell_type": "code",
   "execution_count": 1,
   "metadata": {},
   "outputs": [
    {
     "data": {
      "text/plain": [
       "867"
      ]
     },
     "execution_count": 1,
     "metadata": {},
     "output_type": "execute_result"
    }
   ],
   "source": [
    "data_path = '../input.txt'\n",
    "with open(data_path) as f:\n",
    "    pairs = f.read().split('\\n')\n",
    "pairs\n",
    "\n",
    "def first_overlaps_second(s1, s2):\n",
    "    s1a, s1b = [int(i) for i in s1.split('-')]\n",
    "    s2a, s2b = [int(i) for i in s2.split('-')]\n",
    "    \n",
    "    return s1a <= s2a <= s1b\n",
    "\n",
    "any_overlaps = 0\n",
    "for p in pairs:\n",
    "    s1, s2 = p.split(',')\n",
    "    if first_overlaps_second(s1, s2) or \\\n",
    "        first_overlaps_second(s2, s1):\n",
    "        any_overlaps += 1\n",
    "any_overlaps"
   ]
  }
 ],
 "metadata": {
  "kernelspec": {
   "display_name": "Python 3.8.5 ('hf')",
   "language": "python",
   "name": "python3"
  },
  "language_info": {
   "codemirror_mode": {
    "name": "ipython",
    "version": 3
   },
   "file_extension": ".py",
   "mimetype": "text/x-python",
   "name": "python",
   "nbconvert_exporter": "python",
   "pygments_lexer": "ipython3",
   "version": "3.8.5"
  },
  "orig_nbformat": 4,
  "vscode": {
   "interpreter": {
    "hash": "08f1101887cb7ef917b721a654a351322a18adc369ab73268c522ba28e2892ef"
   }
  }
 },
 "nbformat": 4,
 "nbformat_minor": 2
}
