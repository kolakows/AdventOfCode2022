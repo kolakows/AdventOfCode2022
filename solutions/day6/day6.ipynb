{
 "cells": [
  {
   "cell_type": "code",
   "execution_count": 12,
   "metadata": {},
   "outputs": [
    {
     "name": "stdout",
     "output_type": "stream",
     "text": [
      "3774\n"
     ]
    }
   ],
   "source": [
    "data_path = '../sample.txt'\n",
    "with open(data_path) as f:\n",
    "    data = f.read()\n",
    "\n",
    "for i in range(13, len(data)):\n",
    "    if len(set(data[i-13:i+1])) == 14:\n",
    "        print(i+1)\n",
    "        break"
   ]
  }
 ],
 "metadata": {
  "kernelspec": {
   "display_name": "Python 3.8.5 ('hf')",
   "language": "python",
   "name": "python3"
  },
  "language_info": {
   "codemirror_mode": {
    "name": "ipython",
    "version": 3
   },
   "file_extension": ".py",
   "mimetype": "text/x-python",
   "name": "python",
   "nbconvert_exporter": "python",
   "pygments_lexer": "ipython3",
   "version": "3.8.5"
  },
  "orig_nbformat": 4,
  "vscode": {
   "interpreter": {
    "hash": "08f1101887cb7ef917b721a654a351322a18adc369ab73268c522ba28e2892ef"
   }
  }
 },
 "nbformat": 4,
 "nbformat_minor": 2
}
